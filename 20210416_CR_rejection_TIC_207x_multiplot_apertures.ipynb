{
 "cells": [
  {
   "cell_type": "markdown",
   "metadata": {},
   "source": [
    "# import packages"
   ]
  },
  {
   "cell_type": "code",
   "execution_count": 78,
   "metadata": {},
   "outputs": [],
   "source": [
    "from __future__ import print_function\n",
    "import pandas as pd\n",
    "import numpy as np\n",
    "import glob\n",
    "import re\n",
    "import os\n",
    "import sys\n",
    "import astroscrappy\n",
    "from astropy.io import fits\n",
    "#sys.path.remove('/Users/gks/Dropbox/mypylib')\n",
    "import astropy\n",
    "import matplotlib.pyplot as plt\n",
    "import matplotlib.patches as mpatches\n",
    "import astropy.io.fits \n",
    "\n",
    "from astropy.io import fits\n",
    "from astropy.wcs import WCS\n",
    "from astropy.stats import sigma_clipped_stats\n",
    "from photutils import DAOStarFinder\n",
    "from astropy.visualization import SqrtStretch\n",
    "from astropy.visualization.mpl_normalize import ImageNormalize\n",
    "from photutils import CircularAperture, CircularAnnulus\n",
    "\n",
    "\n"
   ]
  },
  {
   "cell_type": "code",
   "execution_count": 8,
   "metadata": {},
   "outputs": [
    {
     "output_type": "execute_result",
     "data": {
      "text/plain": [
       "(<module 'filepath' from 'src\\\\filepath.py'>,\n",
       " <module 'utils' from 'src\\\\utils.py'>)"
      ]
     },
     "metadata": {},
     "execution_count": 8
    }
   ],
   "source": [
    "sys.path.append('src/')\n",
    "import filepath\n",
    "import utils\n",
    "filepath, utils"
   ]
  },
  {
   "source": [
    "class FitsImage(object):\n",
    "    \"\"\"\n",
    "    A helper class when reading fits files. Depends on pyFits.\n",
    "    \"\"\"\n",
    "    DIRLOC = ''\n",
    "    def __init__(self,filename=None,data=None,header=None,imgnumber=0):\n",
    "        if filename!=None:\n",
    "            self.filename = filename\n",
    "            self.hdulist = fits.open(self.filename)\n",
    "            self.header = self.hdulist[imgnumber].header\n",
    "            data = self.hdulist[imgnumber].data\n",
    "            self.data = data.astype(float)\n",
    "        else:\n",
    "            self.filename = \"\"\n",
    "            self.hdulist = None\n",
    "            self.header = header\n",
    "            self.data = data\n",
    "    \n",
    "    def remove_cosmics(self,\n",
    "                       verbose=True,\n",
    "                       fsmode='convolve',\n",
    "                       save_cleaned=False,\n",
    "                       savefolder=None,\n",
    "                       save_suffix=\"_cleaned\",\n",
    "                       overwrite=False,\n",
    "                       gain=1.,\n",
    "                       psffwhm=16.,\n",
    "                       psfsize=16,\n",
    "                       sigclip=6.,\n",
    "                       sigfrac=0.3,\n",
    "                       objlim=5.,\n",
    "                       psfmodel=\"gauss\",\n",
    "                       pssl=0.,\n",
    "                       cleantype=\"medmask\",\n",
    "                       **cosmics_kwargs):\n",
    "        \"\"\"\n",
    "        Remove cosmic rays with astroscrappy\n",
    "        \n",
    "        Main thing is to study how the results change with the different settings.\n",
    "        \n",
    "        Main parameters are: GAIN and psffwhm\n",
    "        \"\"\"\n",
    "        if verbose: print(\"Cleaning cosmic rays\")\n",
    "        self.cosmics_mask, self.cosmics_cleaned_data = astroscrappy.detect_cosmics(self.data,\n",
    "                                                                                   objlim=objlim,\n",
    "                                                                                   sigfrac=sigfrac,\n",
    "                                                                                   sigclip=sigclip,\n",
    "                                                                                   psfsize=psfsize,\n",
    "                                                                                   verbose=verbose,\n",
    "                                                                                   gain=gain,\n",
    "                                                                                   psffwhm=psffwhm,\n",
    "                                                                                   fsmode=fsmode,\n",
    "                                                                                   psfmodel=psfmodel,\n",
    "                                                                                   pssl=pssl,\n",
    "                                                                                   cleantype=cleantype,\n",
    "                                                                                   **cosmics_kwargs)\n",
    "        if save_cleaned:\n",
    "            # Saving file\n",
    "            fp = filepath.FilePath(self.filename)\n",
    "            make_dir(savefolder)\n",
    "            if savefolder is not None: \n",
    "                fp.directory = savefolder\n",
    "            fp.add_suffix(save_suffix)\n",
    "            self.cosmics_save_filename = fp._fullpath\n",
    "            self.savefits(filename=self.cosmics_save_filename,\n",
    "                          data=self.cosmics_cleaned_data.astype(np.int32),\n",
    "                          verbose=verbose,\n",
    "                          overwrite=overwrite)\n",
    "    \n",
    "    def savefits(self,data=None,filename=\"\",suffix=\"\",verbose=True,overwrite=True):\n",
    "        if data is None:\n",
    "            data = self.data\n",
    "        if filename==\"\":\n",
    "            fp = filepath.Filepath(self.filename)\n",
    "            if suffix==\"\":\n",
    "                suffix = \"_out\"\n",
    "            fp.add_suffix(suffix)\n",
    "            filename=fp._fullpath\n",
    "        self.header[\"BITPIX\"]=16\n",
    "        self.header[\"BSCALE\"]=1\n",
    "        self.header[\"BZERO\"]=32768\n",
    "        fits.writeto(filename,\n",
    "                     data=data,\n",
    "                     header=self.header,\n",
    "                     overwrite=overwrite,\n",
    "                     output_verify=\"warn\")\n",
    "        if verbose: print(\"Saved to\",filename)\n",
    "            \n",
    "def make_dir(dirname,verbose=True):\n",
    "    \"\"\"    Make a directory    \"\"\"\n",
    "    try:\n",
    "        os.makedirs(dirname)\n",
    "        if verbose==True: print(\"Created folder:\",dirname)\n",
    "    except OSError:\n",
    "        if verbose==True: print(dirname,\"already exists. Skipping\")"
   ],
   "cell_type": "code",
   "metadata": {},
   "execution_count": 9,
   "outputs": []
  },
  {
   "cell_type": "markdown",
   "metadata": {},
   "source": [
    "# Find all of the files to clean"
   ]
  },
  {
   "cell_type": "code",
   "execution_count": 10,
   "metadata": {},
   "outputs": [],
   "source": [
    "FOLDERNAME = os.path.abspath(r'''C:\\Users\\Marissa\\Desktop\\Research\\Transits\\ARCTIC\\20210331_TIC-207x\\CR_TEST''')\n",
    "regex = \"*.fits\"\n",
    "files = glob.glob(os.path.join(FOLDERNAME,regex))"
   ]
  },
  {
   "cell_type": "code",
   "execution_count": 11,
   "metadata": {},
   "outputs": [
    {
     "output_type": "execute_result",
     "data": {
      "text/plain": [
       "['C:\\\\Users\\\\Marissa\\\\Desktop\\\\Research\\\\Transits\\\\ARCTIC\\\\20210331_TIC-207x\\\\CR_TEST\\\\TIC-207-diffuser-i.0177.fits',\n",
       " 'C:\\\\Users\\\\Marissa\\\\Desktop\\\\Research\\\\Transits\\\\ARCTIC\\\\20210331_TIC-207x\\\\CR_TEST\\\\TIC-207-diffuser-i.0523.fits']"
      ]
     },
     "metadata": {},
     "execution_count": 11
    }
   ],
   "source": [
    "files"
   ]
  },
  {
   "cell_type": "markdown",
   "metadata": {},
   "source": [
    "# Loop through all test files and clean\n",
    "\n",
    "- This saves the files in a 0_CLEANED subdirectory in the FOLDERNAME\n",
    "- appends a *_cleaned* to the filenames"
   ]
  },
  {
   "cell_type": "code",
   "execution_count": 76,
   "metadata": {},
   "outputs": [
    {
     "output_type": "stream",
     "name": "stdout",
     "text": [
      "k =2\n",
      "j =2\n",
      "0 C:\\Users\\Marissa\\Desktop\\Research\\Transits\\ARCTIC\\20210331_TIC-207x\\CR_TEST\\TIC-207-diffuser-i.0177.fits\n",
      "Cleaning cosmic rays\n",
      "Starting 4 L.A.Cosmic iterations\n",
      "Iteration 1:\n",
      "<ipython-input-9-7b2efe561d8e>:44: DeprecationWarning: `np.bool` is a deprecated alias for the builtin `bool`. To silence this warning, use `bool` by itself. Doing this will not modify any behavior and is safe. If you specifically wanted the numpy scalar type, use `np.bool_` here.\n",
      "Deprecated in NumPy 1.20; for more details and guidance: https://numpy.org/devdocs/release/1.20.0-notes.html#deprecations\n",
      "  self.cosmics_mask, self.cosmics_cleaned_data = astroscrappy.detect_cosmics(self.data,\n",
      "3638 cosmic pixels this iteration\n",
      "Iteration 2:\n",
      "2778 cosmic pixels this iteration\n",
      "Iteration 3:\n",
      "1788 cosmic pixels this iteration\n",
      "Iteration 4:\n",
      "1174 cosmic pixels this iteration\n",
      "C:\\Users\\Marissa\\Desktop\\Research\\Transits\\ARCTIC\\20210331_TIC-207x\\CR_TEST\\0_CLEANED_SYSTEMATIC_TESTS/ already exists. Skipping\n",
      "Saved to C:\\Users\\Marissa\\Desktop\\Research\\Transits\\ARCTIC\\20210331_TIC-207x\\CR_TEST\\0_CLEANED_SYSTEMATIC_TESTS/\\TIC-207-diffuser-i.0177_delta_cleaned_gain_1_sepmed_T_psffwhm_2_psfsize_2.fits\n",
      "(1309.6836, 1310.0, 31.427805)\n",
      "(0.0, 0.0, 0.0)\n",
      "There are 11 stars detected in this FOV.\n",
      "C:\\Users\\Marissa\\AppData\\Local\\Programs\\Python\\Python38\\lib\\site-packages\\photutils\\detection\\daofinder.py:531: RuntimeWarning: divide by zero encountered in double_scalars\n",
      "  return ((self.conv_peak / self.cutout.threshold_eff)\n",
      "There are 240 charged particles detected in this FOV.\n",
      "<ipython-input-76-caf24e2f487e>:79: UserWarning: Creating legend with loc=\"best\" can be slow with large amounts of data.\n",
      "  fig.savefig(r'''C:\\Users\\Marissa\\Desktop\\Research\\Transits\\ARCTIC\\20210331_TIC-207x\\CR_TEST\\0_CLEANED_SYSTEMATIC_TESTS\\UT20210331_cleaned_gain_1_sepmed_T_psffwhm_'''+str(k)+'_psfsize_'+str(j)+'_multiplot_'+str(''.join(re.findall(\"-diffuser-i.(\\d+).fits\",files[i])))+'.png',dpi=200) #MUST CHANGE THE REGEX OF FILENAME IF YOU WANT IT SAVED CORRECTLY\n",
      "1 C:\\Users\\Marissa\\Desktop\\Research\\Transits\\ARCTIC\\20210331_TIC-207x\\CR_TEST\\TIC-207-diffuser-i.0523.fits\n",
      "Cleaning cosmic rays\n",
      "Starting 4 L.A.Cosmic iterations\n",
      "Iteration 1:\n",
      "<ipython-input-9-7b2efe561d8e>:44: DeprecationWarning: `np.bool` is a deprecated alias for the builtin `bool`. To silence this warning, use `bool` by itself. Doing this will not modify any behavior and is safe. If you specifically wanted the numpy scalar type, use `np.bool_` here.\n",
      "Deprecated in NumPy 1.20; for more details and guidance: https://numpy.org/devdocs/release/1.20.0-notes.html#deprecations\n",
      "  self.cosmics_mask, self.cosmics_cleaned_data = astroscrappy.detect_cosmics(self.data,\n",
      "4440 cosmic pixels this iteration\n",
      "Iteration 2:\n",
      "4152 cosmic pixels this iteration\n",
      "Iteration 3:\n",
      "4129 cosmic pixels this iteration\n",
      "Iteration 4:\n",
      "4118 cosmic pixels this iteration\n",
      "C:\\Users\\Marissa\\Desktop\\Research\\Transits\\ARCTIC\\20210331_TIC-207x\\CR_TEST\\0_CLEANED_SYSTEMATIC_TESTS/ already exists. Skipping\n",
      "Saved to C:\\Users\\Marissa\\Desktop\\Research\\Transits\\ARCTIC\\20210331_TIC-207x\\CR_TEST\\0_CLEANED_SYSTEMATIC_TESTS/\\TIC-207-diffuser-i.0523_delta_cleaned_gain_1_sepmed_T_psffwhm_2_psfsize_2.fits\n",
      "(2577.5376, 2540.0, 131.2514)\n",
      "(0.0, 0.0, 0.0)\n",
      "There are 7 stars detected in this FOV.\n",
      "There are 204 charged particles detected in this FOV.C:\\Users\\Marissa\\AppData\\Local\\Programs\\Python\\Python38\\lib\\site-packages\\photutils\\detection\\daofinder.py:531: RuntimeWarning: divide by zero encountered in double_scalars\n",
      "  return ((self.conv_peak / self.cutout.threshold_eff)\n",
      "\n"
     ]
    }
   ],
   "source": [
    "psffwhms = [2]\n",
    "psfsizes = [2]\n",
    "\n",
    "\n",
    "#rows = ['{}'.format(row) for row in ['Target', 'Reference']]\n",
    "cols = ['{}'.format(col) for col in ['Cleaned', 'Removed']]\n",
    "\n",
    "for k in psffwhms:\n",
    "    for j in psfsizes:\n",
    "        print(\"k =\"+str(k))\n",
    "        print(\"j =\"+str(j))\n",
    "        for i, f in enumerate(files):\n",
    "            print(i,f)\n",
    "            fimg = FitsImage(f)\n",
    "            data_uncleaned=np.copy(fimg.data)\n",
    "            fimg.remove_cosmics(save_cleaned=True,\n",
    "                                    gain=1, #gain needs to be changed in 4 locations for filenames\n",
    "                                    sepmed=True,\n",
    "                                    overwrite=True,\n",
    "                                    psffwhm=k,\n",
    "                                    psfsize=j,\n",
    "                                    save_suffix='_delta_cleaned_gain_1_sepmed_T_psffwhm_'+str(k)+'_psfsize_'+str(j),\n",
    "                                    savefolder=os.path.join(FOLDERNAME,'0_CLEANED_SYSTEMATIC_TESTS/'))\n",
    "            data_cleaned = fimg.cosmics_cleaned_data\n",
    "            data_delta = data_uncleaned-data_cleaned\n",
    "            \n",
    "            #Calculate the mean, median, std of the cleaned data set\n",
    "\n",
    "            mean, median, std = sigma_clipped_stats(data_cleaned)\n",
    "            print((mean, median, std))\n",
    "\n",
    "            #Calculate the mean, median, std of the delta data set\n",
    "\n",
    "            mean_delta, median_delta, std_delta = sigma_clipped_stats(data_delta)\n",
    "            print((mean_delta, median_delta, std_delta))\n",
    "\n",
    "            #Create a mask for the cross hair shape on ARCTIC \n",
    "            mask = np.zeros(data_cleaned.shape, dtype=bool)\n",
    "            mask[500:530,0:2000] = True\n",
    "            mask[0:2000,510:540] = True\n",
    "            #Subtract the background and use DAOStarFinder to find the stars in the cleaned image\n",
    "\n",
    "            daofind = DAOStarFinder(fwhm=10, threshold=5.*std)          \n",
    "            sources = daofind(data_cleaned - median, mask=mask)\n",
    "            for col in sources.colnames:\n",
    "                sources[col].info.format = '%.8g'\n",
    "            print('There are '+str(len(sources)) + ' stars detected in this FOV.')\n",
    "            #print(sources)  \n",
    "            positions = np.transpose((sources['xcentroid'], sources['ycentroid']))\n",
    "            apertures = CircularAperture(positions, r=22.)\n",
    "            annulus_aperture = CircularAnnulus(positions, r_in=40, r_out=60)\n",
    "\n",
    "            #Subtract the background and use DAOStarFinder to find the charged particles from astroscrappy to show the removed points in the image\n",
    "\n",
    "            daofind_CR = DAOStarFinder(fwhm=1.15, threshold=5.*std_delta)          \n",
    "            sources_CR = daofind_CR(data_delta - median_delta, mask=mask)\n",
    "            for col in sources_CR.colnames:\n",
    "                sources_CR[col].info.format = '%.8g'\n",
    "            print('There are '+str(len(sources_CR)) + ' charged particles detected in this FOV.') \n",
    "            positions_CR = np.transpose((sources_CR['xcentroid'], sources_CR['ycentroid']))\n",
    "            apertures_CR = CircularAperture(positions_CR, r=5.)\n",
    "\n",
    "            #Plot the FOV with photometric aperture and CR/charged particles marked\n",
    "\n",
    "            norm = ImageNormalize(stretch=SqrtStretch())\n",
    "            fig, ax = plt.subplots(ncols=1,nrows=1)\n",
    "            plt.imshow(data_cleaned, cmap='viridis', origin='lower', norm=norm, interpolation='nearest')\n",
    "            apertures.plot(color='white', lw=1.5, alpha=0.5, label='Photometric Aperture') \n",
    "            apertures_CR.plot(color='red', lw=1.5, alpha=0.5, label='Charged Particle')  \n",
    "            annulus_aperture.plot(color='blue', lw=1.5, alpha=0.5, label='Background Annulus')\n",
    "            plt.title('20210331, TIC-207x, ARCTIC')\n",
    "            plt.xlabel('Pixels')\n",
    "            plt.ylabel('Pixels')\n",
    "            white_patch =mpatches.Patch(color='white', label = 'Photometric Aperture')\n",
    "            blue_patch =mpatches.Patch(color='blue', label = 'Background Annulus')\n",
    "            red_patch =mpatches.Patch(color='red', label = 'Charged Particle')\n",
    "            plt.legend(handles=[white_patch, blue_patch, red_patch]) \n",
    "            fig.suptitle('File:'+ str(''.join(re.findall(\"-diffuser-i.(\\d+).fits\",files[i])))+', PSFFWHM='+str(k)+', PSFSIZE='+str(j) + ', gain=1') #MUST CHANGE THE REGEX OF FILENAME IF YOU WANT IT LABELLED CORRECTLY\n",
    "            fig.savefig(r'''C:\\Users\\Marissa\\Desktop\\Research\\Transits\\ARCTIC\\20210331_TIC-207x\\CR_TEST\\0_CLEANED_SYSTEMATIC_TESTS\\UT20210331_cleaned_gain_1_sepmed_T_psffwhm_'''+str(k)+'_psfsize_'+str(j)+'_multiplot_'+str(''.join(re.findall(\"-diffuser-i.(\\d+).fits\",files[i])))+'.png',dpi=200) #MUST CHANGE THE REGEX OF FILENAME IF YOU WANT IT SAVED CORRECTLY\n",
    "            plt.close(fig)\n",
    "\n",
    "\n",
    "            #plot the cleaned and delta for target star\n",
    "            fig, axx = plt.subplots(ncols=2,nrows=1)\n",
    "            for ax, col in zip(axx, cols):\n",
    "                ax.set_xlabel(col, rotation=0, size='large')\n",
    "            axx.flatten()[0].imshow(data_cleaned[300:380,340:420])\n",
    "            axx.flatten()[1].imshow(data_delta[300:380,340:420])\n",
    "            #axx.flatten()[2].imshow(data_cleaned[0:2000,0:2000])\n",
    "            #axx.flatten()[3].imshow(data_delta[0:2000,0:2000])\n",
    "            fig.suptitle('File:'+ str(''.join(re.findall(\"-diffuser-i.(\\d+).fits\",files[i])))+', PSFFWHM='+str(k)+', PSFSIZE='+str(j) + ', gain=1') #MUST CHANGE THE REGEX OF FILENAME IF YOU WANT IT LABELLED CORRECTLY\n",
    "            fig.savefig(r'''C:\\Users\\Marissa\\Desktop\\Research\\Transits\\ARCTIC\\20210331_TIC-207x\\CR_TEST\\0_CLEANED_SYSTEMATIC_TESTS\\UT20210331_cleaned_gain_1_sepmed_T_psffwhm_'''+str(k)+'_psfsize_'+str(j)+'_'+str(''.join(re.findall(\"-diffuser-i.(\\d+).fits\",files[i])))+'.png',dpi=200) #MUST CHANGE THE REGEX OF FILENAME IF YOU WANT IT SAVED CORRECTLY\n",
    "            plt.close(fig)\n",
    "            \n",
    "\n",
    "                      "
   ]
  },
  {
   "cell_type": "code",
   "execution_count": 95,
   "metadata": {},
   "outputs": [],
   "source": [
    "#Find cleaned files\n",
    "\n",
    "FOLDERNAME2 = os.path.abspath(r'''C:\\Users\\Marissa\\Desktop\\Research\\Transits\\ARCTIC\\20210331_TIC-207x\\CR_TEST\\0_CLEANED_SYSTEMATIC_TESTS''')\n",
    "regex = \"*.fits\"\n",
    "files2 = glob.glob(os.path.join(FOLDERNAME2,regex))"
   ]
  },
  {
   "cell_type": "code",
   "execution_count": 82,
   "metadata": {},
   "outputs": [
    {
     "output_type": "execute_result",
     "data": {
      "text/plain": [
       "['C:\\\\Users\\\\Marissa\\\\Desktop\\\\Research\\\\Transits\\\\ARCTIC\\\\20210331_TIC-207x\\\\CR_TEST\\\\0_CLEANED_SYSTEMATIC_TESTS\\\\TIC-207-diffuser-i.0177_delta_cleaned_gain_1_sepmed_T_psffwhm_2_psfsize_2.fits',\n",
       " 'C:\\\\Users\\\\Marissa\\\\Desktop\\\\Research\\\\Transits\\\\ARCTIC\\\\20210331_TIC-207x\\\\CR_TEST\\\\0_CLEANED_SYSTEMATIC_TESTS\\\\TIC-207-diffuser-i.0523_delta_cleaned_gain_1_sepmed_T_psffwhm_2_psfsize_2.fits']"
      ]
     },
     "metadata": {},
     "execution_count": 82
    }
   ],
   "source": [
    "files2"
   ]
  },
  {
   "cell_type": "code",
   "execution_count": 94,
   "metadata": {},
   "outputs": [
    {
     "output_type": "stream",
     "name": "stdout",
     "text": [
      "(0, 'C:\\\\Users\\\\Marissa\\\\Desktop\\\\Research\\\\Transits\\\\ARCTIC\\\\20210331_TIC-207x\\\\CR_TEST\\\\0_CLEANED_SYSTEMATIC_TESTS\\\\TIC-207-diffuser-i.0177_delta_cleaned_gain_1_sepmed_T_psffwhm_2_psfsize_2.fits')\n"
     ]
    },
    {
     "output_type": "error",
     "ename": "OSError",
     "evalue": "File-like object does not have a 'write' method, required for mode 'ostream'.",
     "traceback": [
      "\u001b[1;31m---------------------------------------------------------------------------\u001b[0m",
      "\u001b[1;31mOSError\u001b[0m                                   Traceback (most recent call last)",
      "\u001b[1;32m<ipython-input-94-2fb0b2201efa>\u001b[0m in \u001b[0;36m<module>\u001b[1;34m\u001b[0m\n\u001b[0;32m      1\u001b[0m \u001b[1;32mfor\u001b[0m \u001b[0ma\u001b[0m \u001b[1;32min\u001b[0m \u001b[0menumerate\u001b[0m\u001b[1;33m(\u001b[0m\u001b[0mfiles2\u001b[0m\u001b[1;33m)\u001b[0m\u001b[1;33m:\u001b[0m\u001b[1;33m\u001b[0m\u001b[1;33m\u001b[0m\u001b[0m\n\u001b[0;32m      2\u001b[0m     \u001b[0mprint\u001b[0m\u001b[1;33m(\u001b[0m\u001b[0ma\u001b[0m\u001b[1;33m)\u001b[0m\u001b[1;33m\u001b[0m\u001b[1;33m\u001b[0m\u001b[0m\n\u001b[1;32m----> 3\u001b[1;33m     \u001b[0mhdu\u001b[0m \u001b[1;33m=\u001b[0m \u001b[0mfits\u001b[0m\u001b[1;33m.\u001b[0m\u001b[0mopen\u001b[0m\u001b[1;33m(\u001b[0m\u001b[0ma\u001b[0m\u001b[1;33m)\u001b[0m\u001b[1;33m[\u001b[0m\u001b[1;36m0\u001b[0m\u001b[1;33m]\u001b[0m\u001b[1;33m\u001b[0m\u001b[1;33m\u001b[0m\u001b[0m\n\u001b[0m\u001b[0;32m      4\u001b[0m     \u001b[0mwcs\u001b[0m \u001b[1;33m=\u001b[0m \u001b[0mWCS\u001b[0m\u001b[1;33m(\u001b[0m\u001b[0mhdu\u001b[0m\u001b[1;33m.\u001b[0m\u001b[0mheader\u001b[0m\u001b[1;33m)\u001b[0m\u001b[1;33m\u001b[0m\u001b[1;33m\u001b[0m\u001b[0m\n\u001b[0;32m      5\u001b[0m     \u001b[0msky\u001b[0m \u001b[1;33m=\u001b[0m \u001b[0mw\u001b[0m\u001b[1;33m.\u001b[0m\u001b[0mpixel_to_world\u001b[0m\u001b[1;33m(\u001b[0m\u001b[1;33m)\u001b[0m\u001b[1;33m\u001b[0m\u001b[1;33m\u001b[0m\u001b[0m\n",
      "\u001b[1;32m~\\AppData\\Local\\Programs\\Python\\Python38\\lib\\site-packages\\astropy\\io\\fits\\hdu\\hdulist.py\u001b[0m in \u001b[0;36mfitsopen\u001b[1;34m(name, mode, memmap, save_backup, cache, lazy_load_hdus, **kwargs)\u001b[0m\n\u001b[0;32m    162\u001b[0m         \u001b[1;32mraise\u001b[0m \u001b[0mValueError\u001b[0m\u001b[1;33m(\u001b[0m\u001b[1;34mf'Empty filename: {name!r}'\u001b[0m\u001b[1;33m)\u001b[0m\u001b[1;33m\u001b[0m\u001b[1;33m\u001b[0m\u001b[0m\n\u001b[0;32m    163\u001b[0m \u001b[1;33m\u001b[0m\u001b[0m\n\u001b[1;32m--> 164\u001b[1;33m     return HDUList.fromfile(name, mode, memmap, save_backup, cache,\n\u001b[0m\u001b[0;32m    165\u001b[0m                             lazy_load_hdus, **kwargs)\n\u001b[0;32m    166\u001b[0m \u001b[1;33m\u001b[0m\u001b[0m\n",
      "\u001b[1;32m~\\AppData\\Local\\Programs\\Python\\Python38\\lib\\site-packages\\astropy\\io\\fits\\hdu\\hdulist.py\u001b[0m in \u001b[0;36mfromfile\u001b[1;34m(cls, fileobj, mode, memmap, save_backup, cache, lazy_load_hdus, **kwargs)\u001b[0m\n\u001b[0;32m    399\u001b[0m         \"\"\"\n\u001b[0;32m    400\u001b[0m \u001b[1;33m\u001b[0m\u001b[0m\n\u001b[1;32m--> 401\u001b[1;33m         return cls._readfrom(fileobj=fileobj, mode=mode, memmap=memmap,\n\u001b[0m\u001b[0;32m    402\u001b[0m                              \u001b[0msave_backup\u001b[0m\u001b[1;33m=\u001b[0m\u001b[0msave_backup\u001b[0m\u001b[1;33m,\u001b[0m \u001b[0mcache\u001b[0m\u001b[1;33m=\u001b[0m\u001b[0mcache\u001b[0m\u001b[1;33m,\u001b[0m\u001b[1;33m\u001b[0m\u001b[1;33m\u001b[0m\u001b[0m\n\u001b[0;32m    403\u001b[0m                              lazy_load_hdus=lazy_load_hdus, **kwargs)\n",
      "\u001b[1;32m~\\AppData\\Local\\Programs\\Python\\Python38\\lib\\site-packages\\astropy\\io\\fits\\hdu\\hdulist.py\u001b[0m in \u001b[0;36m_readfrom\u001b[1;34m(cls, fileobj, data, mode, memmap, cache, lazy_load_hdus, **kwargs)\u001b[0m\n\u001b[0;32m   1050\u001b[0m             \u001b[1;32mif\u001b[0m \u001b[1;32mnot\u001b[0m \u001b[0misinstance\u001b[0m\u001b[1;33m(\u001b[0m\u001b[0mfileobj\u001b[0m\u001b[1;33m,\u001b[0m \u001b[0m_File\u001b[0m\u001b[1;33m)\u001b[0m\u001b[1;33m:\u001b[0m\u001b[1;33m\u001b[0m\u001b[1;33m\u001b[0m\u001b[0m\n\u001b[0;32m   1051\u001b[0m                 \u001b[1;31m# instantiate a FITS file object (ffo)\u001b[0m\u001b[1;33m\u001b[0m\u001b[1;33m\u001b[0m\u001b[1;33m\u001b[0m\u001b[0m\n\u001b[1;32m-> 1052\u001b[1;33m                 \u001b[0mfileobj\u001b[0m \u001b[1;33m=\u001b[0m \u001b[0m_File\u001b[0m\u001b[1;33m(\u001b[0m\u001b[0mfileobj\u001b[0m\u001b[1;33m,\u001b[0m \u001b[0mmode\u001b[0m\u001b[1;33m=\u001b[0m\u001b[0mmode\u001b[0m\u001b[1;33m,\u001b[0m \u001b[0mmemmap\u001b[0m\u001b[1;33m=\u001b[0m\u001b[0mmemmap\u001b[0m\u001b[1;33m,\u001b[0m \u001b[0mcache\u001b[0m\u001b[1;33m=\u001b[0m\u001b[0mcache\u001b[0m\u001b[1;33m)\u001b[0m\u001b[1;33m\u001b[0m\u001b[1;33m\u001b[0m\u001b[0m\n\u001b[0m\u001b[0;32m   1053\u001b[0m             \u001b[1;31m# The Astropy mode is determined by the _File initializer if the\u001b[0m\u001b[1;33m\u001b[0m\u001b[1;33m\u001b[0m\u001b[1;33m\u001b[0m\u001b[0m\n\u001b[0;32m   1054\u001b[0m             \u001b[1;31m# supplied mode was None\u001b[0m\u001b[1;33m\u001b[0m\u001b[1;33m\u001b[0m\u001b[1;33m\u001b[0m\u001b[0m\n",
      "\u001b[1;32m~\\AppData\\Local\\Programs\\Python\\Python38\\lib\\site-packages\\astropy\\utils\\decorators.py\u001b[0m in \u001b[0;36mwrapper\u001b[1;34m(*args, **kwargs)\u001b[0m\n\u001b[0;32m    533\u001b[0m                     \u001b[0mwarnings\u001b[0m\u001b[1;33m.\u001b[0m\u001b[0mwarn\u001b[0m\u001b[1;33m(\u001b[0m\u001b[0mmessage\u001b[0m\u001b[1;33m,\u001b[0m \u001b[0mwarning_type\u001b[0m\u001b[1;33m,\u001b[0m \u001b[0mstacklevel\u001b[0m\u001b[1;33m=\u001b[0m\u001b[1;36m2\u001b[0m\u001b[1;33m)\u001b[0m\u001b[1;33m\u001b[0m\u001b[1;33m\u001b[0m\u001b[0m\n\u001b[0;32m    534\u001b[0m \u001b[1;33m\u001b[0m\u001b[0m\n\u001b[1;32m--> 535\u001b[1;33m             \u001b[1;32mreturn\u001b[0m \u001b[0mfunction\u001b[0m\u001b[1;33m(\u001b[0m\u001b[1;33m*\u001b[0m\u001b[0margs\u001b[0m\u001b[1;33m,\u001b[0m \u001b[1;33m**\u001b[0m\u001b[0mkwargs\u001b[0m\u001b[1;33m)\u001b[0m\u001b[1;33m\u001b[0m\u001b[1;33m\u001b[0m\u001b[0m\n\u001b[0m\u001b[0;32m    536\u001b[0m \u001b[1;33m\u001b[0m\u001b[0m\n\u001b[0;32m    537\u001b[0m         \u001b[1;32mreturn\u001b[0m \u001b[0mwrapper\u001b[0m\u001b[1;33m\u001b[0m\u001b[1;33m\u001b[0m\u001b[0m\n",
      "\u001b[1;32m~\\AppData\\Local\\Programs\\Python\\Python38\\lib\\site-packages\\astropy\\io\\fits\\file.py\u001b[0m in \u001b[0;36m__init__\u001b[1;34m(self, fileobj, mode, memmap, overwrite, cache)\u001b[0m\n\u001b[0;32m    175\u001b[0m             \u001b[0mself\u001b[0m\u001b[1;33m.\u001b[0m\u001b[0m_open_filename\u001b[0m\u001b[1;33m(\u001b[0m\u001b[0mfileobj\u001b[0m\u001b[1;33m,\u001b[0m \u001b[0mmode\u001b[0m\u001b[1;33m,\u001b[0m \u001b[0moverwrite\u001b[0m\u001b[1;33m)\u001b[0m\u001b[1;33m\u001b[0m\u001b[1;33m\u001b[0m\u001b[0m\n\u001b[0;32m    176\u001b[0m         \u001b[1;32melse\u001b[0m\u001b[1;33m:\u001b[0m\u001b[1;33m\u001b[0m\u001b[1;33m\u001b[0m\u001b[0m\n\u001b[1;32m--> 177\u001b[1;33m             \u001b[0mself\u001b[0m\u001b[1;33m.\u001b[0m\u001b[0m_open_filelike\u001b[0m\u001b[1;33m(\u001b[0m\u001b[0mfileobj\u001b[0m\u001b[1;33m,\u001b[0m \u001b[0mmode\u001b[0m\u001b[1;33m,\u001b[0m \u001b[0moverwrite\u001b[0m\u001b[1;33m)\u001b[0m\u001b[1;33m\u001b[0m\u001b[1;33m\u001b[0m\u001b[0m\n\u001b[0m\u001b[0;32m    178\u001b[0m \u001b[1;33m\u001b[0m\u001b[0m\n\u001b[0;32m    179\u001b[0m         \u001b[0mself\u001b[0m\u001b[1;33m.\u001b[0m\u001b[0mfileobj_mode\u001b[0m \u001b[1;33m=\u001b[0m \u001b[0mfileobj_mode\u001b[0m\u001b[1;33m(\u001b[0m\u001b[0mself\u001b[0m\u001b[1;33m.\u001b[0m\u001b[0m_file\u001b[0m\u001b[1;33m)\u001b[0m\u001b[1;33m\u001b[0m\u001b[1;33m\u001b[0m\u001b[0m\n",
      "\u001b[1;32m~\\AppData\\Local\\Programs\\Python\\Python38\\lib\\site-packages\\astropy\\io\\fits\\file.py\u001b[0m in \u001b[0;36m_open_filelike\u001b[1;34m(self, fileobj, mode, overwrite)\u001b[0m\n\u001b[0;32m    539\u001b[0m         if (self.mode in ('update', 'append', 'ostream') and\n\u001b[0;32m    540\u001b[0m                 not hasattr(self._file, 'write')):\n\u001b[1;32m--> 541\u001b[1;33m             raise OSError(\"File-like object does not have a 'write' \"\n\u001b[0m\u001b[0;32m    542\u001b[0m                           \"method, required for mode '{}'.\".format(self.mode))\n\u001b[0;32m    543\u001b[0m \u001b[1;33m\u001b[0m\u001b[0m\n",
      "\u001b[1;31mOSError\u001b[0m: File-like object does not have a 'write' method, required for mode 'ostream'."
     ]
    }
   ],
   "source": [
    "for a in enumerate(files2):\n",
    "    print(a)\n",
    "    hdu = fits.open(a)[0]\n",
    "    wcs = WCS(hdu.header)\n",
    "    sky = w.pixel_to_world()"
   ]
  },
  {
   "cell_type": "code",
   "execution_count": null,
   "metadata": {},
   "outputs": [],
   "source": []
  }
 ],
 "metadata": {
  "kernelspec": {
   "name": "python388jvsc74a57bd06f43b00be208b7ccbe922493d2f91dacd6330723cd41e7211565a0ba6ad157ce",
   "display_name": "Python 3.8.8 64-bit"
  },
  "language_info": {
   "codemirror_mode": {
    "name": "ipython",
    "version": 3
   },
   "file_extension": ".py",
   "mimetype": "text/x-python",
   "name": "python",
   "nbconvert_exporter": "python",
   "pygments_lexer": "ipython3",
   "version": "3.8.8"
  }
 },
 "nbformat": 4,
 "nbformat_minor": 2
}